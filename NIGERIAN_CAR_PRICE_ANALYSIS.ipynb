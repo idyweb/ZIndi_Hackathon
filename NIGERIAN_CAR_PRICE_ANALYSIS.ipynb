{
 "cells": [
  {
   "cell_type": "markdown",
   "id": "9826b6bc",
   "metadata": {},
   "source": [
    "# PROJECT: \n",
    "\n",
    "## Table of Contents\n",
    "1. Introduction\n",
    "2. Data wrangling\n",
    "3. Exploratory Data Analysis\n",
    "4. conclusion\n"
   ]
  },
  {
   "cell_type": "markdown",
   "id": "ef06bb3a",
   "metadata": {},
   "source": [
    "# Introduction\n",
    "\n",
    "### Data Set Description\n",
    "\n",
    "The Train dataset is about car prices, colours, models, locations and year of production in nigeria  \n",
    "\n",
    "The train dataset contains of 9 features(columns) and 7205 record(rows).\n",
    "\n",
    "VehicleID: This is the unique identifier of the car.\t\t\t\t\t\t\n",
    "Location: This is the location in Nigeria where the seller is based.\t\t\t\t\t\t\n",
    "Maker: This is the manufacturer of the car. It is the brand name.\t\t\t\t\t\t\n",
    "Model: This is the the name of the car product within a range of similar car products.\t\t\t\t\t\t\n",
    "Year: This is the year the car was manufactured.\t\t\t\t\t\t\n",
    "Colour:\tThis is the colour of the car.\t\t\t\t\t\t\n",
    "Amount: (Million Naira)\tThis is the selling price of the car. It is the amount the company will sell the car.\t\t\t\t\t\t\n",
    "Type: This is the nature of previous use of the car, whether it was previously used within Nigeria or outside   Nigeria.\t\t\t\t\t\t\n",
    "Distance: This is the mileage of the car. It is how much distance it covered in its previous use\t\t\t\t\t\t\n",
    "\t\t\t\t\t\t\t\n",
    "\n",
    "\n",
    "\n",
    "\n",
    "### Quetion(s) for Analysis\n",
    "1. how does location affect amount\n",
    "2. what maker of car is most used in the dataset\n",
    "3. how does distance affect amount\n",
    "4. how many model of car do we have on the dataset\n",
    "5. what year has the average amount of car sold\n",
    "6. how does the colour of the car affect the amount \n",
    "7. how does the type(whether nigerian used or foreign used) after price\n"
   ]
  },
  {
   "cell_type": "code",
   "execution_count": 1,
   "id": "1c8f8252",
   "metadata": {},
   "outputs": [],
   "source": [
    "import numpy as np  #linear algebra\n",
    "import pandas as pd  #data processing\n",
    "from numpy.random import randn\n",
    "\n",
    "#stats\n",
    "from scipy import stats\n",
    "\n",
    "#plotting\n",
    "import matplotlib as mlt\n",
    "import matplotlib.pyplot as plt\n",
    "import seaborn as sns\n",
    "%matplotlib inline\n",
    "import warnings"
   ]
  },
  {
   "cell_type": "markdown",
   "id": "51fa4618",
   "metadata": {},
   "source": [
    "# Data Wrangling"
   ]
  },
  {
   "cell_type": "code",
   "execution_count": 2,
   "id": "b9e27ff1",
   "metadata": {},
   "outputs": [
    {
     "data": {
      "text/html": [
       "<div>\n",
       "<style scoped>\n",
       "    .dataframe tbody tr th:only-of-type {\n",
       "        vertical-align: middle;\n",
       "    }\n",
       "\n",
       "    .dataframe tbody tr th {\n",
       "        vertical-align: top;\n",
       "    }\n",
       "\n",
       "    .dataframe thead th {\n",
       "        text-align: right;\n",
       "    }\n",
       "</style>\n",
       "<table border=\"1\" class=\"dataframe\">\n",
       "  <thead>\n",
       "    <tr style=\"text-align: right;\">\n",
       "      <th></th>\n",
       "      <th>VehicleID</th>\n",
       "      <th>Location</th>\n",
       "      <th>Maker</th>\n",
       "      <th>Model</th>\n",
       "      <th>Year</th>\n",
       "      <th>Colour</th>\n",
       "      <th>Amount (Million Naira)</th>\n",
       "      <th>Type</th>\n",
       "      <th>Distance</th>\n",
       "    </tr>\n",
       "  </thead>\n",
       "  <tbody>\n",
       "    <tr>\n",
       "      <th>0</th>\n",
       "      <td>VHL12546</td>\n",
       "      <td>Abuja</td>\n",
       "      <td>Honda</td>\n",
       "      <td>Accord Coupe EX V-6</td>\n",
       "      <td>2,011</td>\n",
       "      <td>Silver</td>\n",
       "      <td>2.2</td>\n",
       "      <td>Nigerian Used</td>\n",
       "      <td>NaN</td>\n",
       "    </tr>\n",
       "    <tr>\n",
       "      <th>1</th>\n",
       "      <td>VHL18827</td>\n",
       "      <td>Ibadan</td>\n",
       "      <td>Hyundai</td>\n",
       "      <td>Sonata</td>\n",
       "      <td>2,012</td>\n",
       "      <td>Silver</td>\n",
       "      <td>3.5</td>\n",
       "      <td>Nigerian Used</td>\n",
       "      <td>125,000</td>\n",
       "    </tr>\n",
       "    <tr>\n",
       "      <th>2</th>\n",
       "      <td>VHL19499</td>\n",
       "      <td>Lagos</td>\n",
       "      <td>Lexus</td>\n",
       "      <td>RX 350</td>\n",
       "      <td>2,010</td>\n",
       "      <td>Red</td>\n",
       "      <td>9.2</td>\n",
       "      <td>Foreign Used</td>\n",
       "      <td>110,852</td>\n",
       "    </tr>\n",
       "    <tr>\n",
       "      <th>3</th>\n",
       "      <td>VHL17991</td>\n",
       "      <td>Abuja</td>\n",
       "      <td>Mercedes-Benz</td>\n",
       "      <td>GLE-Class</td>\n",
       "      <td>2,017</td>\n",
       "      <td>Blue</td>\n",
       "      <td>22.8</td>\n",
       "      <td>Foreign Used</td>\n",
       "      <td>30,000</td>\n",
       "    </tr>\n",
       "    <tr>\n",
       "      <th>4</th>\n",
       "      <td>VHL12170</td>\n",
       "      <td>Ibadan</td>\n",
       "      <td>Toyota</td>\n",
       "      <td>Highlander</td>\n",
       "      <td>2,002</td>\n",
       "      <td>Red</td>\n",
       "      <td>2.6</td>\n",
       "      <td>Nigerian Used</td>\n",
       "      <td>125,206</td>\n",
       "    </tr>\n",
       "  </tbody>\n",
       "</table>\n",
       "</div>"
      ],
      "text/plain": [
       "  VehicleID Location          Maker                Model   Year  Colour  \\\n",
       "0  VHL12546    Abuja          Honda  Accord Coupe EX V-6  2,011  Silver   \n",
       "1  VHL18827   Ibadan        Hyundai               Sonata  2,012  Silver   \n",
       "2  VHL19499    Lagos          Lexus               RX 350  2,010     Red   \n",
       "3  VHL17991    Abuja  Mercedes-Benz            GLE-Class  2,017    Blue   \n",
       "4  VHL12170   Ibadan         Toyota           Highlander  2,002     Red   \n",
       "\n",
       "   Amount (Million Naira)           Type Distance  \n",
       "0                     2.2  Nigerian Used      NaN  \n",
       "1                     3.5  Nigerian Used  125,000  \n",
       "2                     9.2   Foreign Used  110,852  \n",
       "3                    22.8   Foreign Used   30,000  \n",
       "4                     2.6  Nigerian Used  125,206  "
      ]
     },
     "execution_count": 2,
     "metadata": {},
     "output_type": "execute_result"
    }
   ],
   "source": [
    "df = pd.read_csv(\"/Users/user/Downloads/Train.csv\")\n",
    "df.head()"
   ]
  },
  {
   "cell_type": "markdown",
   "id": "905e56b4",
   "metadata": {},
   "source": [
    "## data cleaning"
   ]
  },
  {
   "cell_type": "code",
   "execution_count": 3,
   "id": "713b7a82",
   "metadata": {},
   "outputs": [
    {
     "name": "stdout",
     "output_type": "stream",
     "text": [
      "<class 'pandas.core.frame.DataFrame'>\n",
      "RangeIndex: 7205 entries, 0 to 7204\n",
      "Data columns (total 9 columns):\n",
      " #   Column                  Non-Null Count  Dtype  \n",
      "---  ------                  --------------  -----  \n",
      " 0   VehicleID               7205 non-null   object \n",
      " 1   Location                7205 non-null   object \n",
      " 2   Maker                   7205 non-null   object \n",
      " 3   Model                   7205 non-null   object \n",
      " 4   Year                    7184 non-null   object \n",
      " 5   Colour                  7205 non-null   object \n",
      " 6   Amount (Million Naira)  7188 non-null   float64\n",
      " 7   Type                    7008 non-null   object \n",
      " 8   Distance                4845 non-null   object \n",
      "dtypes: float64(1), object(8)\n",
      "memory usage: 506.7+ KB\n"
     ]
    }
   ],
   "source": [
    "df.info()"
   ]
  },
  {
   "cell_type": "markdown",
   "id": "899e3b1d",
   "metadata": {},
   "source": [
    "replacing all space with underscore and changing all capital letters to lower case for uniform reading of data"
   ]
  },
  {
   "cell_type": "code",
   "execution_count": 4,
   "id": "14f840d2",
   "metadata": {},
   "outputs": [],
   "source": [
    "#df.rename(columns=lambda x:x.strip().lower().replace(\" \", \"_\"), inplace=True)"
   ]
  },
  {
   "cell_type": "code",
   "execution_count": 5,
   "id": "4c4e8ad2",
   "metadata": {},
   "outputs": [],
   "source": [
    "df.columns = df.columns.str.lower().str.replace(\" \",\"_\")\n",
    "categorical_columns = list(df.dtypes[df.dtypes == \"object\"].index)\n",
    "for c in categorical_columns:\n",
    "    df[c] = df[c].str.lower().str.replace(\" \",\"_\")"
   ]
  },
  {
   "cell_type": "code",
   "execution_count": 6,
   "id": "4d6ca3f4",
   "metadata": {},
   "outputs": [
    {
     "data": {
      "text/html": [
       "<div>\n",
       "<style scoped>\n",
       "    .dataframe tbody tr th:only-of-type {\n",
       "        vertical-align: middle;\n",
       "    }\n",
       "\n",
       "    .dataframe tbody tr th {\n",
       "        vertical-align: top;\n",
       "    }\n",
       "\n",
       "    .dataframe thead th {\n",
       "        text-align: right;\n",
       "    }\n",
       "</style>\n",
       "<table border=\"1\" class=\"dataframe\">\n",
       "  <thead>\n",
       "    <tr style=\"text-align: right;\">\n",
       "      <th></th>\n",
       "      <th>vehicleid</th>\n",
       "      <th>location</th>\n",
       "      <th>maker</th>\n",
       "      <th>model</th>\n",
       "      <th>year</th>\n",
       "      <th>colour</th>\n",
       "      <th>amount_(million_naira)</th>\n",
       "      <th>type</th>\n",
       "      <th>distance</th>\n",
       "    </tr>\n",
       "  </thead>\n",
       "  <tbody>\n",
       "    <tr>\n",
       "      <th>0</th>\n",
       "      <td>vhl12546</td>\n",
       "      <td>abuja</td>\n",
       "      <td>honda</td>\n",
       "      <td>accord_coupe_ex_v-6</td>\n",
       "      <td>2,011</td>\n",
       "      <td>silver</td>\n",
       "      <td>2.2</td>\n",
       "      <td>nigerian_used</td>\n",
       "      <td>NaN</td>\n",
       "    </tr>\n",
       "    <tr>\n",
       "      <th>1</th>\n",
       "      <td>vhl18827</td>\n",
       "      <td>ibadan</td>\n",
       "      <td>hyundai</td>\n",
       "      <td>sonata</td>\n",
       "      <td>2,012</td>\n",
       "      <td>silver</td>\n",
       "      <td>3.5</td>\n",
       "      <td>nigerian_used</td>\n",
       "      <td>125,000</td>\n",
       "    </tr>\n",
       "    <tr>\n",
       "      <th>2</th>\n",
       "      <td>vhl19499</td>\n",
       "      <td>lagos</td>\n",
       "      <td>lexus</td>\n",
       "      <td>rx_350</td>\n",
       "      <td>2,010</td>\n",
       "      <td>red</td>\n",
       "      <td>9.2</td>\n",
       "      <td>foreign_used</td>\n",
       "      <td>110,852</td>\n",
       "    </tr>\n",
       "    <tr>\n",
       "      <th>3</th>\n",
       "      <td>vhl17991</td>\n",
       "      <td>abuja</td>\n",
       "      <td>mercedes-benz</td>\n",
       "      <td>gle-class</td>\n",
       "      <td>2,017</td>\n",
       "      <td>blue</td>\n",
       "      <td>22.8</td>\n",
       "      <td>foreign_used</td>\n",
       "      <td>30,000</td>\n",
       "    </tr>\n",
       "    <tr>\n",
       "      <th>4</th>\n",
       "      <td>vhl12170</td>\n",
       "      <td>ibadan</td>\n",
       "      <td>toyota</td>\n",
       "      <td>highlander</td>\n",
       "      <td>2,002</td>\n",
       "      <td>red</td>\n",
       "      <td>2.6</td>\n",
       "      <td>nigerian_used</td>\n",
       "      <td>125,206</td>\n",
       "    </tr>\n",
       "  </tbody>\n",
       "</table>\n",
       "</div>"
      ],
      "text/plain": [
       "  vehicleid location          maker                model   year  colour  \\\n",
       "0  vhl12546    abuja          honda  accord_coupe_ex_v-6  2,011  silver   \n",
       "1  vhl18827   ibadan        hyundai               sonata  2,012  silver   \n",
       "2  vhl19499    lagos          lexus               rx_350  2,010     red   \n",
       "3  vhl17991    abuja  mercedes-benz            gle-class  2,017    blue   \n",
       "4  vhl12170   ibadan         toyota           highlander  2,002     red   \n",
       "\n",
       "   amount_(million_naira)           type distance  \n",
       "0                     2.2  nigerian_used      NaN  \n",
       "1                     3.5  nigerian_used  125,000  \n",
       "2                     9.2   foreign_used  110,852  \n",
       "3                    22.8   foreign_used   30,000  \n",
       "4                     2.6  nigerian_used  125,206  "
      ]
     },
     "execution_count": 6,
     "metadata": {},
     "output_type": "execute_result"
    }
   ],
   "source": [
    "df.head()"
   ]
  },
  {
   "cell_type": "markdown",
   "id": "cd30a14c",
   "metadata": {},
   "source": [
    "if you notice the year column, it has some abnormality\n",
    "(2,011) instead of (2011)\n",
    "so I'll replace the comma in the year\n",
    "\n",
    "also removing the comma in the distance column"
   ]
  },
  {
   "cell_type": "code",
   "execution_count": 7,
   "id": "8fa17c69",
   "metadata": {},
   "outputs": [],
   "source": [
    "df[\"year\"] = df[\"year\"].str.replace(\",\", \"\")"
   ]
  },
  {
   "cell_type": "code",
   "execution_count": 8,
   "id": "69546ff2",
   "metadata": {},
   "outputs": [],
   "source": [
    "df[\"distance\"] = df[\"distance\"].str.replace(\",\",\"\")"
   ]
  },
  {
   "cell_type": "code",
   "execution_count": 9,
   "id": "ec3bb39a",
   "metadata": {},
   "outputs": [
    {
     "data": {
      "text/html": [
       "<div>\n",
       "<style scoped>\n",
       "    .dataframe tbody tr th:only-of-type {\n",
       "        vertical-align: middle;\n",
       "    }\n",
       "\n",
       "    .dataframe tbody tr th {\n",
       "        vertical-align: top;\n",
       "    }\n",
       "\n",
       "    .dataframe thead th {\n",
       "        text-align: right;\n",
       "    }\n",
       "</style>\n",
       "<table border=\"1\" class=\"dataframe\">\n",
       "  <thead>\n",
       "    <tr style=\"text-align: right;\">\n",
       "      <th></th>\n",
       "      <th>vehicleid</th>\n",
       "      <th>location</th>\n",
       "      <th>maker</th>\n",
       "      <th>model</th>\n",
       "      <th>year</th>\n",
       "      <th>colour</th>\n",
       "      <th>amount_(million_naira)</th>\n",
       "      <th>type</th>\n",
       "      <th>distance</th>\n",
       "    </tr>\n",
       "  </thead>\n",
       "  <tbody>\n",
       "    <tr>\n",
       "      <th>0</th>\n",
       "      <td>vhl12546</td>\n",
       "      <td>abuja</td>\n",
       "      <td>honda</td>\n",
       "      <td>accord_coupe_ex_v-6</td>\n",
       "      <td>2011</td>\n",
       "      <td>silver</td>\n",
       "      <td>2.2</td>\n",
       "      <td>nigerian_used</td>\n",
       "      <td>NaN</td>\n",
       "    </tr>\n",
       "    <tr>\n",
       "      <th>1</th>\n",
       "      <td>vhl18827</td>\n",
       "      <td>ibadan</td>\n",
       "      <td>hyundai</td>\n",
       "      <td>sonata</td>\n",
       "      <td>2012</td>\n",
       "      <td>silver</td>\n",
       "      <td>3.5</td>\n",
       "      <td>nigerian_used</td>\n",
       "      <td>125000</td>\n",
       "    </tr>\n",
       "    <tr>\n",
       "      <th>2</th>\n",
       "      <td>vhl19499</td>\n",
       "      <td>lagos</td>\n",
       "      <td>lexus</td>\n",
       "      <td>rx_350</td>\n",
       "      <td>2010</td>\n",
       "      <td>red</td>\n",
       "      <td>9.2</td>\n",
       "      <td>foreign_used</td>\n",
       "      <td>110852</td>\n",
       "    </tr>\n",
       "    <tr>\n",
       "      <th>3</th>\n",
       "      <td>vhl17991</td>\n",
       "      <td>abuja</td>\n",
       "      <td>mercedes-benz</td>\n",
       "      <td>gle-class</td>\n",
       "      <td>2017</td>\n",
       "      <td>blue</td>\n",
       "      <td>22.8</td>\n",
       "      <td>foreign_used</td>\n",
       "      <td>30000</td>\n",
       "    </tr>\n",
       "    <tr>\n",
       "      <th>4</th>\n",
       "      <td>vhl12170</td>\n",
       "      <td>ibadan</td>\n",
       "      <td>toyota</td>\n",
       "      <td>highlander</td>\n",
       "      <td>2002</td>\n",
       "      <td>red</td>\n",
       "      <td>2.6</td>\n",
       "      <td>nigerian_used</td>\n",
       "      <td>125206</td>\n",
       "    </tr>\n",
       "  </tbody>\n",
       "</table>\n",
       "</div>"
      ],
      "text/plain": [
       "  vehicleid location          maker                model  year  colour  \\\n",
       "0  vhl12546    abuja          honda  accord_coupe_ex_v-6  2011  silver   \n",
       "1  vhl18827   ibadan        hyundai               sonata  2012  silver   \n",
       "2  vhl19499    lagos          lexus               rx_350  2010     red   \n",
       "3  vhl17991    abuja  mercedes-benz            gle-class  2017    blue   \n",
       "4  vhl12170   ibadan         toyota           highlander  2002     red   \n",
       "\n",
       "   amount_(million_naira)           type distance  \n",
       "0                     2.2  nigerian_used      NaN  \n",
       "1                     3.5  nigerian_used   125000  \n",
       "2                     9.2   foreign_used   110852  \n",
       "3                    22.8   foreign_used    30000  \n",
       "4                     2.6  nigerian_used   125206  "
      ]
     },
     "execution_count": 9,
     "metadata": {},
     "output_type": "execute_result"
    }
   ],
   "source": [
    "df.head()"
   ]
  },
  {
   "cell_type": "code",
   "execution_count": null,
   "id": "07cc8e5e",
   "metadata": {},
   "outputs": [],
   "source": []
  },
  {
   "cell_type": "code",
   "execution_count": 10,
   "id": "0cd30b9f",
   "metadata": {},
   "outputs": [
    {
     "data": {
      "text/plain": [
       "(7205, 9)"
      ]
     },
     "execution_count": 10,
     "metadata": {},
     "output_type": "execute_result"
    }
   ],
   "source": [
    "df.shape"
   ]
  },
  {
   "cell_type": "markdown",
   "id": "e6a2487e",
   "metadata": {},
   "source": [
    "we have 9 columns and 7205 rows in the dataset "
   ]
  },
  {
   "cell_type": "code",
   "execution_count": 11,
   "id": "035db1a3",
   "metadata": {},
   "outputs": [
    {
     "data": {
      "text/plain": [
       "Index(['vehicleid', 'location', 'maker', 'model', 'year', 'colour',\n",
       "       'amount_(million_naira)', 'type', 'distance'],\n",
       "      dtype='object')"
      ]
     },
     "execution_count": 11,
     "metadata": {},
     "output_type": "execute_result"
    }
   ],
   "source": [
    "df.columns"
   ]
  },
  {
   "cell_type": "code",
   "execution_count": 12,
   "id": "ef364d49",
   "metadata": {},
   "outputs": [
    {
     "name": "stdout",
     "output_type": "stream",
     "text": [
      "vehicleid   5141   ['vhl12546' 'vhl18827' 'vhl19499' ... 'vhl12205' 'vhl17562' 'vhl15246'] \n",
      "\n",
      "location   3   ['abuja' 'ibadan' 'lagos'] \n",
      "\n",
      "maker   55   ['honda' 'hyundai' 'lexus' 'mercedes-benz' 'toyota' 'acura' 'dodge'\n",
      " 'nissan' 'kia' 'bmw' 'volvo' 'ford' 'land_rover' 'lincoln' 'peugeot'\n",
      " 'chevrolet' 'audi' 'jaguar' 'infiniti' 'porsche' 'fiat' 'maserati'\n",
      " 'volkswagen' 'suzuki' 'bentley' 'gac' 'mazda' 'scion' 'renault'\n",
      " 'mitsubishi' 'mini' 'pontiac' 'cadillac' 'ferrari' 'jeep' 'buick'\n",
      " 'rolls-royce' 'gmc' 'chrysler' 'lamborghini' 'citroen' 'king' 'baw'\n",
      " 'saturn' 'tata' 'opel' 'jac' 'mg' 'hummer' 'subaru' 'rover' 'saab'\n",
      " 'skoda' 'ivm' 'brabus'] \n",
      "\n",
      "model   1202   ['accord_coupe_ex_v-6' 'sonata' 'rx_350' ... 'almera_1.6_lux'\n",
      " 'x5_3.0i_sports_activity' '320i_sv_premium'] \n",
      "\n",
      "year   33   ['2011' '2012' '2010' '2017' '2002' '2019' '2015' '2004' '2003' '2008'\n",
      " '2018' '2020' '2006' '2016' '2014' '2007' '2009' '2005' '2021' '2013'\n",
      " '2000' nan '1992' '2001' '1997' '1999' '1993' '1998' '1986' '1996' '2022'\n",
      " '1995' '1979' '1989'] \n",
      "\n",
      "colour   21   ['silver' 'red' 'blue' 'black' 'gold' 'white' 'gray' 'burgandy' 'green'\n",
      " 'violet' 'brown' 'yellow' 'orange' 'pink' 'beige' 'purple' 'ivory' 'g'\n",
      " 'teal' 'mica' 'pearl'] \n",
      "\n",
      "amount_(million_naira)   742   [2.200e+00 3.500e+00 9.200e+00 2.280e+01 2.600e+00 7.500e+00 7.900e+01\n",
      " 9.000e+00 7.760e+00 2.500e+00 7.200e+00 3.260e+00 1.910e+00 6.950e+00\n",
      " 1.700e+01 3.550e+00 2.200e+01 2.300e+01 1.400e+01 4.900e+00 2.480e+00\n",
      " 1.600e+01 4.600e+00 1.500e+01 1.185e+01 4.100e+00 4.500e+00 4.200e+00\n",
      " 7.800e+00 5.900e+00 4.000e+00 2.400e+00 3.000e+00 3.200e+00 2.660e+00\n",
      " 1.150e+02 3.300e+00 5.500e+00 3.850e+00 2.300e+00 5.890e+01 2.800e+00\n",
      " 6.500e+00 8.250e+00 6.800e+00 2.080e+00 1.460e+00 3.600e+00 6.850e+00\n",
      " 3.750e+00 1.000e+01 2.810e+00 1.800e+00 6.750e+01 1.500e+00 1.690e+00\n",
      " 6.730e+00 9.500e+00 5.780e+00 9.700e+00 3.800e+00 8.440e+00 4.450e+00\n",
      " 2.900e+01 1.125e+01 2.050e+00 2.150e+01 3.590e+00 5.400e+00 1.069e+01\n",
      " 1.190e+01 7.400e+00 8.680e+00 8.500e+00 1.200e+00 7.310e+00 3.950e+00\n",
      " 6.000e+00 1.080e+01 5.200e+01 1.655e+01 4.500e+01 3.900e+00 1.950e+02\n",
      " 2.700e+01 4.350e+00 5.600e+00 9.900e+00 3.150e+00 8.700e+00 3.400e+00\n",
      " 7.900e+00 8.000e+00 1.020e+01 1.050e+01 4.390e+00 1.900e+00 1.400e+00\n",
      " 1.200e+01 1.390e+01 4.700e+00 9.100e+00 7.650e+00 2.250e+00 6.200e+00\n",
      " 4.000e+01 1.630e+00 1.250e+01 2.000e+00 6.700e+00 3.380e+00 9.560e+00\n",
      " 8.750e+01 9.800e+00 4.250e+00 5.300e+00 5.250e+00 2.700e+00 3.550e+01\n",
      " 5.800e+01 6.650e+01 5.160e+00 3.580e+00 2.590e+00 1.450e+01 1.631e+01\n",
      " 3.200e+01 1.150e+00 5.100e+00 3.250e+00 1.320e+01 1.180e+01 6.250e+00\n",
      " 5.800e+00 4.300e+00 2.850e+00 3.940e+00 2.500e+01 2.800e+01 2.550e+01\n",
      " 1.350e+01 4.300e+01 2.750e+00 6.450e+00 1.010e+00 1.980e+01 2.030e+00\n",
      " 7.000e+00 1.550e+01 5.650e+00 6.300e+00 3.820e+00 4.400e+01 4.650e+00\n",
      " 2.900e+00 3.350e+00 2.400e+01 6.600e+00 2.100e+00 4.950e+00 1.200e+02\n",
      " 8.800e+00 3.040e+00 1.650e+01 4.950e+01 9.750e+00 3.700e+00 1.650e+00\n",
      " 8.650e+00 1.130e+00 1.600e+00 7.650e+01 1.150e+01 5.700e+00 2.000e+01\n",
      " 7.700e+00 5.200e+00 4.800e+01 1.750e+01 7.400e+01       nan 4.800e+00\n",
      " 8.850e+00 2.950e+00 7.300e+00 1.070e+01 2.100e+01 5.300e+01 1.620e+00\n",
      " 2.050e+01 2.350e+01 2.250e+01 1.220e+02 3.450e+00 2.950e+01 8.300e+00\n",
      " 6.050e+00 5.880e+00 3.800e+01 2.650e+00 2.850e+01 5.850e+00 4.270e+01\n",
      " 3.370e+00 1.800e+01 1.850e+01 5.000e+00 1.420e+01 2.365e+01 2.600e+01\n",
      " 8.190e+00 1.950e+00 2.380e+01 1.100e+01 1.570e+01 3.300e+01 4.050e+00\n",
      " 8.200e+00 7.100e+00 9.150e+00 4.400e+00 8.900e+00 9.900e-01 1.300e+01\n",
      " 5.350e+00 3.000e+01 3.500e+01 5.340e+00 3.650e+00 5.900e+01 1.240e+00\n",
      " 2.450e+00 1.900e+01 6.400e+00 2.295e+01 1.350e+00 4.850e+00 1.330e+01\n",
      " 8.550e+00 3.100e+00 5.740e+00 1.120e+01 1.740e+00 6.800e+01 6.850e+01\n",
      " 5.950e+00 1.285e+01 7.050e+00 1.300e+00 2.420e+01 9.400e+00 7.350e+00\n",
      " 1.680e+01 1.450e+00 1.950e+01 5.610e+00 1.260e+00 2.140e+00 2.930e+00\n",
      " 1.820e+01 1.290e+00 3.270e+00 1.580e+00 3.900e+01 1.850e+00 2.300e+02\n",
      " 1.370e+01 4.200e+01 5.000e+01 1.780e+00 9.300e+00 2.890e+00 3.180e+01\n",
      " 1.220e+01 2.017e+01 1.520e+00 1.520e+01 8.400e-01 3.930e+00 6.080e+00\n",
      " 8.900e-01 2.580e+00 1.170e+01 1.960e+01 4.160e+00 1.470e+01 2.750e+02\n",
      " 5.290e+00 4.730e+00 8.500e+01 1.480e+01 2.150e+00 2.680e+00 4.750e+00\n",
      " 5.550e+00 1.160e+01 9.000e-01 5.630e+00 2.550e+00 2.670e+01 5.500e+01\n",
      " 1.380e+01 1.470e+00 7.600e+00 3.150e+01 2.350e+00 4.790e+00 5.750e+00\n",
      " 1.180e+00 1.100e+00 2.790e+00 8.900e+01 2.280e+00 3.650e+01 1.990e+00\n",
      " 6.100e+00 6.510e+00 7.000e-01 1.630e+01 1.130e+01 9.230e+00 7.250e+00\n",
      " 2.813e+01 6.350e+00 6.900e+00 7.750e+00 1.730e+01 1.700e+00 5.070e+00\n",
      " 3.700e+01 9.600e+00 8.600e+00 1.400e+02 4.750e+01 4.420e+00 1.385e+01\n",
      " 1.575e+01 9.500e+01 5.510e+00 1.260e+01 6.750e+00 1.195e+01 1.580e+01\n",
      " 1.550e+00 2.380e+00 1.830e+01 2.650e+01 5.450e+00 4.770e+01 4.490e+00\n",
      " 6.000e+01 5.060e+00 1.390e+00 2.450e+01 6.500e+01 8.700e+01 1.090e+01\n",
      " 1.055e+01 1.050e+00 4.150e+00 7.850e+00 1.215e+01 1.070e+00 1.463e+01\n",
      " 2.870e+00 3.090e+00 2.430e+01 5.100e+01 1.145e+01 3.280e+00 7.150e+00\n",
      " 4.500e-01 1.238e+01 1.490e+00 4.040e+00 6.680e+00 9.000e+01 2.690e+02\n",
      " 3.600e+01 5.760e+00 2.330e+00 1.350e+02 4.280e+00 8.990e+00 1.280e+01\n",
      " 2.285e+01 3.710e+00 7.950e+00 8.070e+00 8.000e-01 4.560e+02 1.985e+01\n",
      " 1.750e+00 1.065e+01 1.870e+01 3.120e+00 2.920e+00 1.250e+02 3.610e+00\n",
      " 2.360e+00 6.380e+00 1.045e+01 3.880e+00 1.325e+01 2.400e+02 2.750e+01\n",
      " 1.920e+00 8.100e+00 5.625e+01 6.200e-01 1.760e+01 3.450e+01 1.270e+01\n",
      " 3.420e+00 6.190e+00 7.380e+00 8.410e+00 1.780e+01 3.680e+00 1.430e+01\n",
      " 1.880e+00 1.245e+01 1.970e+01 4.550e+00 4.900e+01 4.235e+01 2.000e+02\n",
      " 1.000e+02 4.700e+01 2.999e+01 2.545e+01 1.790e+01 4.320e+00 1.948e+01\n",
      " 9.450e+00 2.980e+00 3.050e+00 5.150e+00 1.425e+01 1.013e+01 1.315e+01\n",
      " 1.085e+01 1.880e+01 6.200e+01 1.250e+00 3.440e+00 3.990e+00 6.390e+00\n",
      " 3.480e+01 3.830e+00 5.450e+01 3.480e+00 4.840e+00 7.880e+00 2.950e+02\n",
      " 6.800e-01 3.860e+00 4.600e+01 7.900e-01 8.000e+01 4.980e+00 2.855e+01\n",
      " 1.913e+01 8.400e+00 9.600e-01 1.560e+01 9.850e+00 1.685e+01 4.830e+00\n",
      " 7.090e+00 6.900e-01 1.945e+01 6.580e+00 1.690e+01 2.630e+00 3.490e+00\n",
      " 9.650e+00 6.340e+00 1.395e+01 1.750e+02 1.290e+01 7.500e+01 2.620e+01\n",
      " 1.155e+01 1.255e+01 6.180e+00 1.000e+00 8.790e+00 5.280e+00 1.030e+01\n",
      " 1.485e+01 2.840e+00 3.330e+01 4.020e+00 6.700e+01 2.370e+01 9.790e+00\n",
      " 8.200e+01 2.530e+00 2.925e+01 7.290e+00 4.350e+01 1.720e+00 2.690e+00\n",
      " 1.980e+00 1.700e+02 6.910e+00 3.000e+02 1.860e+00 6.410e+00 3.100e+01\n",
      " 6.090e+01 4.390e+01 6.780e+00 8.460e+00 4.890e+00 4.990e+00 4.610e+00\n",
      " 4.660e+00 6.530e+00 3.950e+01 4.650e+01 9.100e-01 3.530e+00 7.550e+00\n",
      " 1.970e+00 5.600e+01 2.490e+00 6.170e+00 7.800e+01 9.350e+00 3.850e+01\n",
      " 1.225e+01 6.500e-01 6.890e+00 9.500e-01 1.730e+00 9.250e+00 1.420e+00\n",
      " 1.895e+01 8.520e+00 5.097e+01 6.550e+00 2.970e+00 1.955e+01 2.680e+01\n",
      " 3.470e+00 1.235e+01 1.060e+01 1.480e+02 8.750e+00 5.380e+00 4.250e+01\n",
      " 3.490e+01 1.020e+00 1.233e+01 1.126e+01 1.440e+02 2.120e+01 1.890e+00\n",
      " 8.450e+00 1.094e+01 4.440e+02 7.450e+00 2.470e+00 1.080e+02 1.590e+00\n",
      " 1.050e+02 3.350e+01 2.480e+01 3.030e+00 4.450e+01 4.780e+00 9.800e+01\n",
      " 1.890e+01 4.480e+00 4.210e+00 1.660e+01 4.680e+00 1.570e+00 1.601e+01\n",
      " 1.230e+01 9.880e+00 9.550e+00 3.620e+00 8.400e+01 3.170e+00 3.190e+00\n",
      " 3.770e+00 2.610e+00 4.500e+02 7.300e-01 1.140e+01 1.720e+01 3.750e+01\n",
      " 4.380e+00 8.490e+00 1.135e+01 1.455e+01 1.688e+01 1.240e+01 4.130e+00\n",
      " 4.550e+01 4.880e+00 8.780e+00 4.580e+00 1.165e+01 1.920e+01 1.345e+01\n",
      " 1.060e+00 2.670e+00 2.241e+01 2.580e+01 4.520e+00 2.450e+02 9.300e+01\n",
      " 1.360e+01 9.950e+00 2.050e+02 3.400e+01 2.530e+01 9.200e+01 5.050e+00\n",
      " 4.270e+00 5.377e+01 2.310e+01 1.280e+00 5.400e+01 8.350e+00 5.600e-01\n",
      " 3.980e+00 1.320e+00 3.335e+01 4.460e+00 2.650e+02 2.760e+00 3.890e+00\n",
      " 2.340e+00 7.990e+00 6.650e+00 2.138e+01 3.540e+00 3.230e+00 5.980e+00\n",
      " 5.830e+00 1.300e+02 7.450e+01 5.980e+01 2.390e+00 2.800e+02 8.700e-01\n",
      " 3.800e+02 5.390e+00 5.350e+01 2.170e+01 3.320e+01 1.610e+01 6.300e+01\n",
      " 1.375e+01 8.950e+00 7.690e+00 1.870e+02 3.120e+01 7.330e+00 4.300e+02\n",
      " 2.385e+01 6.000e-01 1.560e+00 1.415e+01 4.680e+01 8.500e-01 4.540e+02\n",
      " 9.620e+00 4.860e+00 2.070e+01 3.210e+00 6.150e+00 1.670e+01 3.250e+01\n",
      " 6.600e+01 2.980e+02 2.080e+01 7.000e+01 1.190e+00 1.885e+01 1.089e+01\n",
      " 2.790e+01 1.569e+01 1.650e+02 1.340e+01 1.850e+02 1.435e+01 8.050e+00\n",
      " 2.860e+01 1.475e+01 2.900e+02 1.969e+01 2.700e+02 2.985e+01 4.380e+01\n",
      " 1.457e+01 6.450e+01 1.320e+02 5.620e+00 4.940e+01 1.888e+01 4.710e+00\n",
      " 3.050e+01 2.250e+02 2.490e+01 1.405e+01 3.970e+00 1.121e+01 1.500e+02\n",
      " 1.640e+01 2.630e+01 2.030e+01 4.100e+01 1.530e+01 1.310e+01 2.180e+01\n",
      " 2.310e+00 6.770e+00 1.740e+01 7.700e+01 7.300e+01 4.440e+00 1.490e+02\n",
      " 1.280e+02 1.295e+01 1.445e+01 1.355e+01 5.700e+01 4.330e+00 1.770e+00\n",
      " 1.465e+01 3.938e+01 2.970e+01 7.540e+00 1.292e+01 5.063e+01 1.550e+02\n",
      " 1.910e+01] \n",
      "\n",
      "type   3   ['nigerian_used' 'foreign_used' 'brand_new' nan] \n",
      "\n",
      "distance   3144   [nan '125000' '110852' ... '114257' '85750' '83308'] \n",
      "\n"
     ]
    }
   ],
   "source": [
    "for x in df.columns:\n",
    "    print(x,\" \",df[x].nunique(),\" \",df[x].unique(),\"\\n\")"
   ]
  },
  {
   "cell_type": "code",
   "execution_count": 13,
   "id": "169e0364",
   "metadata": {},
   "outputs": [
    {
     "data": {
      "text/plain": [
       "vehicleid                  object\n",
       "location                   object\n",
       "maker                      object\n",
       "model                      object\n",
       "year                       object\n",
       "colour                     object\n",
       "amount_(million_naira)    float64\n",
       "type                       object\n",
       "distance                   object\n",
       "dtype: object"
      ]
     },
     "execution_count": 13,
     "metadata": {},
     "output_type": "execute_result"
    }
   ],
   "source": [
    "df.dtypes"
   ]
  },
  {
   "cell_type": "markdown",
   "id": "0e0afc33",
   "metadata": {},
   "source": [
    "we have 8 object and 1 float"
   ]
  },
  {
   "cell_type": "code",
   "execution_count": 14,
   "id": "d9df38e6",
   "metadata": {},
   "outputs": [
    {
     "data": {
      "text/html": [
       "<div>\n",
       "<style scoped>\n",
       "    .dataframe tbody tr th:only-of-type {\n",
       "        vertical-align: middle;\n",
       "    }\n",
       "\n",
       "    .dataframe tbody tr th {\n",
       "        vertical-align: top;\n",
       "    }\n",
       "\n",
       "    .dataframe thead th {\n",
       "        text-align: right;\n",
       "    }\n",
       "</style>\n",
       "<table border=\"1\" class=\"dataframe\">\n",
       "  <thead>\n",
       "    <tr style=\"text-align: right;\">\n",
       "      <th></th>\n",
       "      <th>amount_(million_naira)</th>\n",
       "    </tr>\n",
       "  </thead>\n",
       "  <tbody>\n",
       "    <tr>\n",
       "      <th>count</th>\n",
       "      <td>7188.000000</td>\n",
       "    </tr>\n",
       "    <tr>\n",
       "      <th>mean</th>\n",
       "      <td>11.847999</td>\n",
       "    </tr>\n",
       "    <tr>\n",
       "      <th>std</th>\n",
       "      <td>25.318922</td>\n",
       "    </tr>\n",
       "    <tr>\n",
       "      <th>min</th>\n",
       "      <td>0.450000</td>\n",
       "    </tr>\n",
       "    <tr>\n",
       "      <th>25%</th>\n",
       "      <td>3.500000</td>\n",
       "    </tr>\n",
       "    <tr>\n",
       "      <th>50%</th>\n",
       "      <td>5.650000</td>\n",
       "    </tr>\n",
       "    <tr>\n",
       "      <th>75%</th>\n",
       "      <td>11.662500</td>\n",
       "    </tr>\n",
       "    <tr>\n",
       "      <th>max</th>\n",
       "      <td>456.000000</td>\n",
       "    </tr>\n",
       "  </tbody>\n",
       "</table>\n",
       "</div>"
      ],
      "text/plain": [
       "       amount_(million_naira)\n",
       "count             7188.000000\n",
       "mean                11.847999\n",
       "std                 25.318922\n",
       "min                  0.450000\n",
       "25%                  3.500000\n",
       "50%                  5.650000\n",
       "75%                 11.662500\n",
       "max                456.000000"
      ]
     },
     "execution_count": 14,
     "metadata": {},
     "output_type": "execute_result"
    }
   ],
   "source": [
    "df.describe()"
   ]
  },
  {
   "cell_type": "code",
   "execution_count": 15,
   "id": "0b36aa86",
   "metadata": {},
   "outputs": [
    {
     "data": {
      "text/html": [
       "<div>\n",
       "<style scoped>\n",
       "    .dataframe tbody tr th:only-of-type {\n",
       "        vertical-align: middle;\n",
       "    }\n",
       "\n",
       "    .dataframe tbody tr th {\n",
       "        vertical-align: top;\n",
       "    }\n",
       "\n",
       "    .dataframe thead th {\n",
       "        text-align: right;\n",
       "    }\n",
       "</style>\n",
       "<table border=\"1\" class=\"dataframe\">\n",
       "  <thead>\n",
       "    <tr style=\"text-align: right;\">\n",
       "      <th></th>\n",
       "      <th>vehicleid</th>\n",
       "      <th>location</th>\n",
       "      <th>maker</th>\n",
       "      <th>model</th>\n",
       "      <th>year</th>\n",
       "      <th>colour</th>\n",
       "      <th>type</th>\n",
       "      <th>distance</th>\n",
       "    </tr>\n",
       "  </thead>\n",
       "  <tbody>\n",
       "    <tr>\n",
       "      <th>count</th>\n",
       "      <td>7205</td>\n",
       "      <td>7205</td>\n",
       "      <td>7205</td>\n",
       "      <td>7205</td>\n",
       "      <td>7184</td>\n",
       "      <td>7205</td>\n",
       "      <td>7008</td>\n",
       "      <td>4845</td>\n",
       "    </tr>\n",
       "    <tr>\n",
       "      <th>unique</th>\n",
       "      <td>5141</td>\n",
       "      <td>3</td>\n",
       "      <td>55</td>\n",
       "      <td>1202</td>\n",
       "      <td>33</td>\n",
       "      <td>21</td>\n",
       "      <td>3</td>\n",
       "      <td>3144</td>\n",
       "    </tr>\n",
       "    <tr>\n",
       "      <th>top</th>\n",
       "      <td>vhl18344</td>\n",
       "      <td>lagos</td>\n",
       "      <td>toyota</td>\n",
       "      <td>camry</td>\n",
       "      <td>2008</td>\n",
       "      <td>black</td>\n",
       "      <td>foreign_used</td>\n",
       "      <td>75000</td>\n",
       "    </tr>\n",
       "    <tr>\n",
       "      <th>freq</th>\n",
       "      <td>5</td>\n",
       "      <td>3318</td>\n",
       "      <td>2742</td>\n",
       "      <td>651</td>\n",
       "      <td>755</td>\n",
       "      <td>2128</td>\n",
       "      <td>4896</td>\n",
       "      <td>70</td>\n",
       "    </tr>\n",
       "  </tbody>\n",
       "</table>\n",
       "</div>"
      ],
      "text/plain": [
       "       vehicleid location   maker  model  year colour          type distance\n",
       "count       7205     7205    7205   7205  7184   7205          7008     4845\n",
       "unique      5141        3      55   1202    33     21             3     3144\n",
       "top     vhl18344    lagos  toyota  camry  2008  black  foreign_used    75000\n",
       "freq           5     3318    2742    651   755   2128          4896       70"
      ]
     },
     "execution_count": 15,
     "metadata": {},
     "output_type": "execute_result"
    }
   ],
   "source": [
    "df.describe(include = \"object\")"
   ]
  },
  {
   "cell_type": "markdown",
   "id": "64d591e0",
   "metadata": {},
   "source": [
    "checking for miss value"
   ]
  },
  {
   "cell_type": "code",
   "execution_count": 16,
   "id": "3906ffd9",
   "metadata": {},
   "outputs": [
    {
     "data": {
      "text/plain": [
       "vehicleid                    0\n",
       "location                     0\n",
       "maker                        0\n",
       "model                        0\n",
       "year                        21\n",
       "colour                       0\n",
       "amount_(million_naira)      17\n",
       "type                       197\n",
       "distance                  2360\n",
       "dtype: int64"
      ]
     },
     "execution_count": 16,
     "metadata": {},
     "output_type": "execute_result"
    }
   ],
   "source": [
    "df.isnull().sum()"
   ]
  },
  {
   "cell_type": "markdown",
   "id": "eb2a0a05",
   "metadata": {},
   "source": [
    "filling in the missing value \n",
    "\n",
    "mode for the object\n",
    "and mean for the float"
   ]
  },
  {
   "cell_type": "code",
   "execution_count": 17,
   "id": "6674a86d",
   "metadata": {},
   "outputs": [
    {
     "data": {
      "text/plain": [
       "0    2008\n",
       "Name: year, dtype: object"
      ]
     },
     "execution_count": 17,
     "metadata": {},
     "output_type": "execute_result"
    }
   ],
   "source": [
    "df[\"year\"].mode() "
   ]
  },
  {
   "cell_type": "code",
   "execution_count": 18,
   "id": "8ceb5d66",
   "metadata": {},
   "outputs": [],
   "source": [
    "df[\"year\"].fillna(2008, inplace = True)"
   ]
  },
  {
   "cell_type": "code",
   "execution_count": 19,
   "id": "0fe7c0b9",
   "metadata": {},
   "outputs": [],
   "source": [
    "amount_mean = df[\"amount_(million_naira)\"].mean()"
   ]
  },
  {
   "cell_type": "code",
   "execution_count": 20,
   "id": "8c457a90",
   "metadata": {},
   "outputs": [
    {
     "data": {
      "text/plain": [
       "11.847999443516994"
      ]
     },
     "execution_count": 20,
     "metadata": {},
     "output_type": "execute_result"
    }
   ],
   "source": [
    "amount_mean"
   ]
  },
  {
   "cell_type": "code",
   "execution_count": 21,
   "id": "af762a52",
   "metadata": {},
   "outputs": [],
   "source": [
    "df[\"amount_(million_naira)\"].fillna(amount_mean, inplace = True)"
   ]
  },
  {
   "cell_type": "code",
   "execution_count": 22,
   "id": "b4667f89",
   "metadata": {},
   "outputs": [
    {
     "data": {
      "text/plain": [
       "0    foreign_used\n",
       "Name: type, dtype: object"
      ]
     },
     "execution_count": 22,
     "metadata": {},
     "output_type": "execute_result"
    }
   ],
   "source": [
    "df[\"type\"].mode()"
   ]
  },
  {
   "cell_type": "code",
   "execution_count": 23,
   "id": "d216987e",
   "metadata": {},
   "outputs": [],
   "source": [
    "df[\"type\"].fillna(\"foreign_used\", inplace = True)"
   ]
  },
  {
   "cell_type": "code",
   "execution_count": 24,
   "id": "582e3c00",
   "metadata": {},
   "outputs": [
    {
     "data": {
      "text/plain": [
       "0    75000\n",
       "Name: distance, dtype: object"
      ]
     },
     "execution_count": 24,
     "metadata": {},
     "output_type": "execute_result"
    }
   ],
   "source": [
    "df[\"distance\"].mode()"
   ]
  },
  {
   "cell_type": "code",
   "execution_count": 25,
   "id": "9b2ecfd5",
   "metadata": {},
   "outputs": [],
   "source": [
    "df[\"distance\"].fillna(75000, inplace = True)"
   ]
  },
  {
   "cell_type": "code",
   "execution_count": 26,
   "id": "31496e7d",
   "metadata": {},
   "outputs": [
    {
     "data": {
      "text/plain": [
       "vehicleid                 0\n",
       "location                  0\n",
       "maker                     0\n",
       "model                     0\n",
       "year                      0\n",
       "colour                    0\n",
       "amount_(million_naira)    0\n",
       "type                      0\n",
       "distance                  0\n",
       "dtype: int64"
      ]
     },
     "execution_count": 26,
     "metadata": {},
     "output_type": "execute_result"
    }
   ],
   "source": [
    "df.isnull().sum()"
   ]
  },
  {
   "cell_type": "markdown",
   "id": "70b93b01",
   "metadata": {},
   "source": [
    "changing distance from object to int"
   ]
  },
  {
   "cell_type": "code",
   "execution_count": 27,
   "id": "f1a96362",
   "metadata": {},
   "outputs": [],
   "source": [
    "df[\"distance\"] = df[\"distance\"].astype(int)"
   ]
  },
  {
   "cell_type": "code",
   "execution_count": 28,
   "id": "5b5d088c",
   "metadata": {},
   "outputs": [
    {
     "data": {
      "text/plain": [
       "vehicleid                  object\n",
       "location                   object\n",
       "maker                      object\n",
       "model                      object\n",
       "year                       object\n",
       "colour                     object\n",
       "amount_(million_naira)    float64\n",
       "type                       object\n",
       "distance                    int64\n",
       "dtype: object"
      ]
     },
     "execution_count": 28,
     "metadata": {},
     "output_type": "execute_result"
    }
   ],
   "source": [
    "df.dtypes"
   ]
  },
  {
   "cell_type": "markdown",
   "id": "55792e6a",
   "metadata": {},
   "source": [
    "# Exploratory Data Analysis"
   ]
  },
  {
   "cell_type": "code",
   "execution_count": 29,
   "id": "57aed038",
   "metadata": {},
   "outputs": [
    {
     "data": {
      "text/html": [
       "<div>\n",
       "<style scoped>\n",
       "    .dataframe tbody tr th:only-of-type {\n",
       "        vertical-align: middle;\n",
       "    }\n",
       "\n",
       "    .dataframe tbody tr th {\n",
       "        vertical-align: top;\n",
       "    }\n",
       "\n",
       "    .dataframe thead th {\n",
       "        text-align: right;\n",
       "    }\n",
       "</style>\n",
       "<table border=\"1\" class=\"dataframe\">\n",
       "  <thead>\n",
       "    <tr style=\"text-align: right;\">\n",
       "      <th></th>\n",
       "      <th>vehicleid</th>\n",
       "      <th>location</th>\n",
       "      <th>maker</th>\n",
       "      <th>model</th>\n",
       "      <th>year</th>\n",
       "      <th>colour</th>\n",
       "      <th>amount_(million_naira)</th>\n",
       "      <th>type</th>\n",
       "      <th>distance</th>\n",
       "    </tr>\n",
       "  </thead>\n",
       "  <tbody>\n",
       "    <tr>\n",
       "      <th>0</th>\n",
       "      <td>vhl12546</td>\n",
       "      <td>abuja</td>\n",
       "      <td>honda</td>\n",
       "      <td>accord_coupe_ex_v-6</td>\n",
       "      <td>2011</td>\n",
       "      <td>silver</td>\n",
       "      <td>2.2</td>\n",
       "      <td>nigerian_used</td>\n",
       "      <td>75000</td>\n",
       "    </tr>\n",
       "    <tr>\n",
       "      <th>1</th>\n",
       "      <td>vhl18827</td>\n",
       "      <td>ibadan</td>\n",
       "      <td>hyundai</td>\n",
       "      <td>sonata</td>\n",
       "      <td>2012</td>\n",
       "      <td>silver</td>\n",
       "      <td>3.5</td>\n",
       "      <td>nigerian_used</td>\n",
       "      <td>125000</td>\n",
       "    </tr>\n",
       "    <tr>\n",
       "      <th>2</th>\n",
       "      <td>vhl19499</td>\n",
       "      <td>lagos</td>\n",
       "      <td>lexus</td>\n",
       "      <td>rx_350</td>\n",
       "      <td>2010</td>\n",
       "      <td>red</td>\n",
       "      <td>9.2</td>\n",
       "      <td>foreign_used</td>\n",
       "      <td>110852</td>\n",
       "    </tr>\n",
       "    <tr>\n",
       "      <th>3</th>\n",
       "      <td>vhl17991</td>\n",
       "      <td>abuja</td>\n",
       "      <td>mercedes-benz</td>\n",
       "      <td>gle-class</td>\n",
       "      <td>2017</td>\n",
       "      <td>blue</td>\n",
       "      <td>22.8</td>\n",
       "      <td>foreign_used</td>\n",
       "      <td>30000</td>\n",
       "    </tr>\n",
       "    <tr>\n",
       "      <th>4</th>\n",
       "      <td>vhl12170</td>\n",
       "      <td>ibadan</td>\n",
       "      <td>toyota</td>\n",
       "      <td>highlander</td>\n",
       "      <td>2002</td>\n",
       "      <td>red</td>\n",
       "      <td>2.6</td>\n",
       "      <td>nigerian_used</td>\n",
       "      <td>125206</td>\n",
       "    </tr>\n",
       "  </tbody>\n",
       "</table>\n",
       "</div>"
      ],
      "text/plain": [
       "  vehicleid location          maker                model  year  colour  \\\n",
       "0  vhl12546    abuja          honda  accord_coupe_ex_v-6  2011  silver   \n",
       "1  vhl18827   ibadan        hyundai               sonata  2012  silver   \n",
       "2  vhl19499    lagos          lexus               rx_350  2010     red   \n",
       "3  vhl17991    abuja  mercedes-benz            gle-class  2017    blue   \n",
       "4  vhl12170   ibadan         toyota           highlander  2002     red   \n",
       "\n",
       "   amount_(million_naira)           type  distance  \n",
       "0                     2.2  nigerian_used     75000  \n",
       "1                     3.5  nigerian_used    125000  \n",
       "2                     9.2   foreign_used    110852  \n",
       "3                    22.8   foreign_used     30000  \n",
       "4                     2.6  nigerian_used    125206  "
      ]
     },
     "execution_count": 29,
     "metadata": {},
     "output_type": "execute_result"
    }
   ],
   "source": [
    "df.head()"
   ]
  },
  {
   "cell_type": "markdown",
   "id": "c8705f84",
   "metadata": {},
   "source": [
    "## 1. how does location affect amount"
   ]
  },
  {
   "cell_type": "code",
   "execution_count": 30,
   "id": "4083d12e",
   "metadata": {},
   "outputs": [
    {
     "name": "stderr",
     "output_type": "stream",
     "text": [
      "/opt/anaconda3/lib/python3.9/site-packages/seaborn/categorical.py:3717: UserWarning: The `factorplot` function has been renamed to `catplot`. The original name will be removed in a future release. Please update your code. Note that the default `kind` in `factorplot` (`'point'`) has changed `'strip'` in `catplot`.\n",
      "  warnings.warn(msg)\n",
      "/opt/anaconda3/lib/python3.9/site-packages/seaborn/_decorators.py:36: FutureWarning: Pass the following variables as keyword args: x, y. From version 0.12, the only valid positional argument will be `data`, and passing other arguments without an explicit keyword will result in an error or misinterpretation.\n",
      "  warnings.warn(\n"
     ]
    },
    {
     "data": {
      "image/png": "[encoded data removed]",
      "text/plain": [
       "<Figure size 360x360 with 1 Axes>"
      ]
     },
     "metadata": {
      "needs_background": "light"
     },
     "output_type": "display_data"
    }
   ],
   "source": [
    "sns.factorplot(\"location\", \"amount_(million_naira)\", data = df);"
   ]
  },
  {
   "cell_type": "markdown",
   "id": "49d67a91",
   "metadata": {},
   "source": [
    "cars in abuja are the most expensive, seconded by lagos then ibadan"
   ]
  },
  {
   "cell_type": "code",
   "execution_count": 31,
   "id": "c1a86d64",
   "metadata": {},
   "outputs": [
    {
     "data": {
      "text/plain": [
       "<matplotlib.legend.Legend at 0x1287bddf0>"
      ]
     },
     "execution_count": 31,
     "metadata": {},
     "output_type": "execute_result"
    },
    {
     "data": {
      "image/png": "[encoded data removed]",
      "text/plain": [
       "<Figure size 432x288 with 1 Axes>"
      ]
     },
     "metadata": {},
     "output_type": "display_data"
    }
   ],
   "source": [
    "df[\"location\"].value_counts().plot.pie()\n",
    "\n",
    "plt.legend()"
   ]
  },
  {
   "cell_type": "markdown",
   "id": "27d7b957",
   "metadata": {},
   "source": [
    "Ibadan has lesser cars in the dataset"
   ]
  },
  {
   "cell_type": "markdown",
   "id": "83d8a392",
   "metadata": {},
   "source": [
    "## 2. what maker of car is most used in the dataset"
   ]
  },
  {
   "cell_type": "code",
   "execution_count": 32,
   "id": "7c0d807d",
   "metadata": {},
   "outputs": [
    {
     "name": "stderr",
     "output_type": "stream",
     "text": [
      "/opt/anaconda3/lib/python3.9/site-packages/seaborn/_decorators.py:36: FutureWarning: Pass the following variable as a keyword arg: x. From version 0.12, the only valid positional argument will be `data`, and passing other arguments without an explicit keyword will result in an error or misinterpretation.\n",
      "  warnings.warn(\n"
     ]
    },
    {
     "data": {
      "image/png": "[encoded data removed]",
      "text/plain": [
       "<Figure size 1440x504 with 1 Axes>"
      ]
     },
     "metadata": {
      "needs_background": "light"
     },
     "output_type": "display_data"
    }
   ],
   "source": [
    "plt.figure(figsize = (20,7))\n",
    "sns.countplot(df[\"maker\"])\n",
    "plt.xticks(rotation=90)\n",
    "plt.show()"
   ]
  },
  {
   "cell_type": "markdown",
   "id": "03055482",
   "metadata": {},
   "source": [
    "toyota is the most used with value of over 2500 count, next is lexus with value of over 1500, mercedes_benz, etc as shown by the graph above"
   ]
  },
  {
   "cell_type": "markdown",
   "id": "8464f2e1",
   "metadata": {},
   "source": [
    "## 3. how does distance affect amount"
   ]
  },
  {
   "cell_type": "code",
   "execution_count": 33,
   "id": "f38ac649",
   "metadata": {},
   "outputs": [
    {
     "name": "stderr",
     "output_type": "stream",
     "text": [
      "/opt/anaconda3/lib/python3.9/site-packages/seaborn/_decorators.py:36: FutureWarning: Pass the following variables as keyword args: x, y. From version 0.12, the only valid positional argument will be `data`, and passing other arguments without an explicit keyword will result in an error or misinterpretation.\n",
      "  warnings.warn(\n"
     ]
    },
    {
     "data": {
      "text/plain": [
       "<AxesSubplot:xlabel='distance', ylabel='amount_(million_naira)'>"
      ]
     },
     "execution_count": 33,
     "metadata": {},
     "output_type": "execute_result"
    },
    {
     "data": {
      "image/png": "[encoded data removed]",
      "text/plain": [
       "<Figure size 432x288 with 1 Axes>"
      ]
     },
     "metadata": {
      "needs_background": "light"
     },
     "output_type": "display_data"
    }
   ],
   "source": [
    "sns.scatterplot(\"distance\",\"amount_(million_naira)\", data = df)"
   ]
  },
  {
   "cell_type": "markdown",
   "id": "7d3ffa2f",
   "metadata": {},
   "source": [
    "cars with lower distance travelled cost more"
   ]
  },
  {
   "cell_type": "markdown",
   "id": "a977cdd2",
   "metadata": {},
   "source": [
    "## 4. how many model of car do we have on the dataset"
   ]
  },
  {
   "cell_type": "code",
   "execution_count": 34,
   "id": "69f0ff5d",
   "metadata": {},
   "outputs": [
    {
     "data": {
      "text/plain": [
       "1202"
      ]
     },
     "execution_count": 34,
     "metadata": {},
     "output_type": "execute_result"
    }
   ],
   "source": [
    "df[\"model\"].nunique()"
   ]
  },
  {
   "cell_type": "markdown",
   "id": "8a96c049",
   "metadata": {},
   "source": [
    "we have 1202 model of cars in the dataset"
   ]
  },
  {
   "cell_type": "markdown",
   "id": "93e474d8",
   "metadata": {},
   "source": [
    "## 5. what year has the average amount of car sold"
   ]
  },
  {
   "cell_type": "code",
   "execution_count": 35,
   "id": "568dd618",
   "metadata": {},
   "outputs": [
    {
     "data": {
      "text/html": [
       "<div>\n",
       "<style scoped>\n",
       "    .dataframe tbody tr th:only-of-type {\n",
       "        vertical-align: middle;\n",
       "    }\n",
       "\n",
       "    .dataframe tbody tr th {\n",
       "        vertical-align: top;\n",
       "    }\n",
       "\n",
       "    .dataframe thead th {\n",
       "        text-align: right;\n",
       "    }\n",
       "</style>\n",
       "<table border=\"1\" class=\"dataframe\">\n",
       "  <thead>\n",
       "    <tr style=\"text-align: right;\">\n",
       "      <th></th>\n",
       "      <th>location</th>\n",
       "      <th>amount_(million_naira)</th>\n",
       "      <th>year</th>\n",
       "    </tr>\n",
       "  </thead>\n",
       "  <tbody>\n",
       "    <tr>\n",
       "      <th>0</th>\n",
       "      <td>abuja</td>\n",
       "      <td>2.2</td>\n",
       "      <td>2011</td>\n",
       "    </tr>\n",
       "    <tr>\n",
       "      <th>1</th>\n",
       "      <td>ibadan</td>\n",
       "      <td>3.5</td>\n",
       "      <td>2012</td>\n",
       "    </tr>\n",
       "    <tr>\n",
       "      <th>2</th>\n",
       "      <td>lagos</td>\n",
       "      <td>9.2</td>\n",
       "      <td>2010</td>\n",
       "    </tr>\n",
       "    <tr>\n",
       "      <th>3</th>\n",
       "      <td>abuja</td>\n",
       "      <td>22.8</td>\n",
       "      <td>2017</td>\n",
       "    </tr>\n",
       "    <tr>\n",
       "      <th>4</th>\n",
       "      <td>ibadan</td>\n",
       "      <td>2.6</td>\n",
       "      <td>2002</td>\n",
       "    </tr>\n",
       "  </tbody>\n",
       "</table>\n",
       "</div>"
      ],
      "text/plain": [
       "  location  amount_(million_naira)  year\n",
       "0    abuja                     2.2  2011\n",
       "1   ibadan                     3.5  2012\n",
       "2    lagos                     9.2  2010\n",
       "3    abuja                    22.8  2017\n",
       "4   ibadan                     2.6  2002"
      ]
     },
     "execution_count": 35,
     "metadata": {},
     "output_type": "execute_result"
    }
   ],
   "source": [
    "df_group1 = df[[\"location\",\"amount_(million_naira)\",\"year\"]]\n",
    "df_group1.head()"
   ]
  },
  {
   "cell_type": "code",
   "execution_count": 36,
   "id": "9dc31b1e",
   "metadata": {},
   "outputs": [
    {
     "data": {
      "text/html": [
       "<div>\n",
       "<style scoped>\n",
       "    .dataframe tbody tr th:only-of-type {\n",
       "        vertical-align: middle;\n",
       "    }\n",
       "\n",
       "    .dataframe tbody tr th {\n",
       "        vertical-align: top;\n",
       "    }\n",
       "\n",
       "    .dataframe thead th {\n",
       "        text-align: right;\n",
       "    }\n",
       "</style>\n",
       "<table border=\"1\" class=\"dataframe\">\n",
       "  <thead>\n",
       "    <tr style=\"text-align: right;\">\n",
       "      <th></th>\n",
       "      <th>year</th>\n",
       "      <th>amount_(million_naira)</th>\n",
       "    </tr>\n",
       "  </thead>\n",
       "  <tbody>\n",
       "    <tr>\n",
       "      <th>33</th>\n",
       "      <td>2022</td>\n",
       "      <td>113.800000</td>\n",
       "    </tr>\n",
       "    <tr>\n",
       "      <th>32</th>\n",
       "      <td>2021</td>\n",
       "      <td>98.680759</td>\n",
       "    </tr>\n",
       "    <tr>\n",
       "      <th>31</th>\n",
       "      <td>2020</td>\n",
       "      <td>41.253137</td>\n",
       "    </tr>\n",
       "    <tr>\n",
       "      <th>30</th>\n",
       "      <td>2019</td>\n",
       "      <td>39.656286</td>\n",
       "    </tr>\n",
       "    <tr>\n",
       "      <th>29</th>\n",
       "      <td>2018</td>\n",
       "      <td>24.656491</td>\n",
       "    </tr>\n",
       "    <tr>\n",
       "      <th>28</th>\n",
       "      <td>2017</td>\n",
       "      <td>21.804845</td>\n",
       "    </tr>\n",
       "    <tr>\n",
       "      <th>27</th>\n",
       "      <td>2016</td>\n",
       "      <td>19.708107</td>\n",
       "    </tr>\n",
       "    <tr>\n",
       "      <th>26</th>\n",
       "      <td>2015</td>\n",
       "      <td>12.697312</td>\n",
       "    </tr>\n",
       "    <tr>\n",
       "      <th>25</th>\n",
       "      <td>2014</td>\n",
       "      <td>10.743320</td>\n",
       "    </tr>\n",
       "    <tr>\n",
       "      <th>24</th>\n",
       "      <td>2013</td>\n",
       "      <td>8.881659</td>\n",
       "    </tr>\n",
       "    <tr>\n",
       "      <th>23</th>\n",
       "      <td>2012</td>\n",
       "      <td>7.682865</td>\n",
       "    </tr>\n",
       "    <tr>\n",
       "      <th>0</th>\n",
       "      <td>2008</td>\n",
       "      <td>7.680000</td>\n",
       "    </tr>\n",
       "    <tr>\n",
       "      <th>22</th>\n",
       "      <td>2011</td>\n",
       "      <td>6.744826</td>\n",
       "    </tr>\n",
       "    <tr>\n",
       "      <th>21</th>\n",
       "      <td>2010</td>\n",
       "      <td>6.187421</td>\n",
       "    </tr>\n",
       "    <tr>\n",
       "      <th>20</th>\n",
       "      <td>2009</td>\n",
       "      <td>4.526510</td>\n",
       "    </tr>\n",
       "    <tr>\n",
       "      <th>19</th>\n",
       "      <td>2008</td>\n",
       "      <td>4.321960</td>\n",
       "    </tr>\n",
       "    <tr>\n",
       "      <th>3</th>\n",
       "      <td>1989</td>\n",
       "      <td>4.000000</td>\n",
       "    </tr>\n",
       "    <tr>\n",
       "      <th>18</th>\n",
       "      <td>2007</td>\n",
       "      <td>3.833529</td>\n",
       "    </tr>\n",
       "    <tr>\n",
       "      <th>17</th>\n",
       "      <td>2006</td>\n",
       "      <td>3.457530</td>\n",
       "    </tr>\n",
       "    <tr>\n",
       "      <th>16</th>\n",
       "      <td>2005</td>\n",
       "      <td>3.075839</td>\n",
       "    </tr>\n",
       "    <tr>\n",
       "      <th>5</th>\n",
       "      <td>1993</td>\n",
       "      <td>2.790000</td>\n",
       "    </tr>\n",
       "    <tr>\n",
       "      <th>2</th>\n",
       "      <td>1986</td>\n",
       "      <td>2.750000</td>\n",
       "    </tr>\n",
       "    <tr>\n",
       "      <th>15</th>\n",
       "      <td>2004</td>\n",
       "      <td>2.505946</td>\n",
       "    </tr>\n",
       "    <tr>\n",
       "      <th>14</th>\n",
       "      <td>2003</td>\n",
       "      <td>2.486066</td>\n",
       "    </tr>\n",
       "    <tr>\n",
       "      <th>13</th>\n",
       "      <td>2002</td>\n",
       "      <td>2.029189</td>\n",
       "    </tr>\n",
       "    <tr>\n",
       "      <th>11</th>\n",
       "      <td>2000</td>\n",
       "      <td>2.021487</td>\n",
       "    </tr>\n",
       "    <tr>\n",
       "      <th>1</th>\n",
       "      <td>1979</td>\n",
       "      <td>1.850000</td>\n",
       "    </tr>\n",
       "    <tr>\n",
       "      <th>8</th>\n",
       "      <td>1997</td>\n",
       "      <td>1.794000</td>\n",
       "    </tr>\n",
       "    <tr>\n",
       "      <th>12</th>\n",
       "      <td>2001</td>\n",
       "      <td>1.784364</td>\n",
       "    </tr>\n",
       "    <tr>\n",
       "      <th>4</th>\n",
       "      <td>1992</td>\n",
       "      <td>1.633333</td>\n",
       "    </tr>\n",
       "    <tr>\n",
       "      <th>10</th>\n",
       "      <td>1999</td>\n",
       "      <td>1.537895</td>\n",
       "    </tr>\n",
       "    <tr>\n",
       "      <th>6</th>\n",
       "      <td>1995</td>\n",
       "      <td>1.420000</td>\n",
       "    </tr>\n",
       "    <tr>\n",
       "      <th>9</th>\n",
       "      <td>1998</td>\n",
       "      <td>1.367273</td>\n",
       "    </tr>\n",
       "    <tr>\n",
       "      <th>7</th>\n",
       "      <td>1996</td>\n",
       "      <td>0.790000</td>\n",
       "    </tr>\n",
       "  </tbody>\n",
       "</table>\n",
       "</div>"
      ],
      "text/plain": [
       "    year  amount_(million_naira)\n",
       "33  2022              113.800000\n",
       "32  2021               98.680759\n",
       "31  2020               41.253137\n",
       "30  2019               39.656286\n",
       "29  2018               24.656491\n",
       "28  2017               21.804845\n",
       "27  2016               19.708107\n",
       "26  2015               12.697312\n",
       "25  2014               10.743320\n",
       "24  2013                8.881659\n",
       "23  2012                7.682865\n",
       "0   2008                7.680000\n",
       "22  2011                6.744826\n",
       "21  2010                6.187421\n",
       "20  2009                4.526510\n",
       "19  2008                4.321960\n",
       "3   1989                4.000000\n",
       "18  2007                3.833529\n",
       "17  2006                3.457530\n",
       "16  2005                3.075839\n",
       "5   1993                2.790000\n",
       "2   1986                2.750000\n",
       "15  2004                2.505946\n",
       "14  2003                2.486066\n",
       "13  2002                2.029189\n",
       "11  2000                2.021487\n",
       "1   1979                1.850000\n",
       "8   1997                1.794000\n",
       "12  2001                1.784364\n",
       "4   1992                1.633333\n",
       "10  1999                1.537895\n",
       "6   1995                1.420000\n",
       "9   1998                1.367273\n",
       "7   1996                0.790000"
      ]
     },
     "execution_count": 36,
     "metadata": {},
     "output_type": "execute_result"
    }
   ],
   "source": [
    "df_group1 =df_group1.groupby(['year'], as_index = False).mean()\n",
    "df_group1.sort_values(by='amount_(million_naira)',ascending=False)"
   ]
  },
  {
   "cell_type": "markdown",
   "id": "9534d1ed",
   "metadata": {},
   "source": [
    "## 6. how does the colour of the car affect the amount "
   ]
  },
  {
   "cell_type": "code",
   "execution_count": 37,
   "id": "ebb8a604",
   "metadata": {},
   "outputs": [
    {
     "name": "stderr",
     "output_type": "stream",
     "text": [
      "/opt/anaconda3/lib/python3.9/site-packages/seaborn/_decorators.py:36: FutureWarning: Pass the following variable as a keyword arg: x. From version 0.12, the only valid positional argument will be `data`, and passing other arguments without an explicit keyword will result in an error or misinterpretation.\n",
      "  warnings.warn(\n"
     ]
    },
    {
     "data": {
      "image/png": "[encoded data removed]",
      "text/plain": [
       "<Figure size 1440x504 with 1 Axes>"
      ]
     },
     "metadata": {
      "needs_background": "light"
     },
     "output_type": "display_data"
    }
   ],
   "source": [
    "plt.figure(figsize = (20,7))\n",
    "sns.countplot(df[\"colour\"])\n",
    "plt.xticks(rotation=90)\n",
    "plt.show()"
   ]
  },
  {
   "cell_type": "code",
   "execution_count": 38,
   "id": "6d2bd95a",
   "metadata": {},
   "outputs": [
    {
     "name": "stderr",
     "output_type": "stream",
     "text": [
      "/opt/anaconda3/lib/python3.9/site-packages/seaborn/categorical.py:3717: UserWarning: The `factorplot` function has been renamed to `catplot`. The original name will be removed in a future release. Please update your code. Note that the default `kind` in `factorplot` (`'point'`) has changed `'strip'` in `catplot`.\n",
      "  warnings.warn(msg)\n",
      "/opt/anaconda3/lib/python3.9/site-packages/seaborn/_decorators.py:36: FutureWarning: Pass the following variables as keyword args: x, y. From version 0.12, the only valid positional argument will be `data`, and passing other arguments without an explicit keyword will result in an error or misinterpretation.\n",
      "  warnings.warn(\n"
     ]
    },
    {
     "data": {
      "text/plain": [
       "(array([ 0,  1,  2,  3,  4,  5,  6,  7,  8,  9, 10, 11, 12, 13, 14, 15, 16,\n",
       "        17, 18, 19, 20]),\n",
       " [Text(0, 0, 'silver'),\n",
       "  Text(1, 0, 'red'),\n",
       "  Text(2, 0, 'blue'),\n",
       "  Text(3, 0, 'black'),\n",
       "  Text(4, 0, 'gold'),\n",
       "  Text(5, 0, 'white'),\n",
       "  Text(6, 0, 'gray'),\n",
       "  Text(7, 0, 'burgandy'),\n",
       "  Text(8, 0, 'green'),\n",
       "  Text(9, 0, 'violet'),\n",
       "  Text(10, 0, 'brown'),\n",
       "  Text(11, 0, 'yellow'),\n",
       "  Text(12, 0, 'orange'),\n",
       "  Text(13, 0, 'pink'),\n",
       "  Text(14, 0, 'beige'),\n",
       "  Text(15, 0, 'purple'),\n",
       "  Text(16, 0, 'ivory'),\n",
       "  Text(17, 0, 'g'),\n",
       "  Text(18, 0, 'teal'),\n",
       "  Text(19, 0, 'mica'),\n",
       "  Text(20, 0, 'pearl')])"
      ]
     },
     "execution_count": 38,
     "metadata": {},
     "output_type": "execute_result"
    },
    {
     "data": {
      "image/png": "[encoded data removed]",
      "text/plain": [
       "<Figure size 360x360 with 1 Axes>"
      ]
     },
     "metadata": {
      "needs_background": "light"
     },
     "output_type": "display_data"
    }
   ],
   "source": [
    "sns.factorplot(\"colour\", \"amount_(million_naira)\", data = df, palette = \"muted\")\n",
    "plt.xticks(rotation=90)"
   ]
  },
  {
   "cell_type": "markdown",
   "id": "0eb91c79",
   "metadata": {},
   "source": [
    "orange cars are the most expensive in this dataset"
   ]
  },
  {
   "cell_type": "markdown",
   "id": "4c68c22c",
   "metadata": {},
   "source": [
    "## 7. how does the type(whether nigerian used or foreign used) after price\n"
   ]
  },
  {
   "cell_type": "markdown",
   "id": "e29da727",
   "metadata": {},
   "source": [
    "first lets see how many of each we have"
   ]
  },
  {
   "cell_type": "code",
   "execution_count": 39,
   "id": "455c18a4",
   "metadata": {},
   "outputs": [
    {
     "data": {
      "text/plain": [
       "<matplotlib.legend.Legend at 0x1295a6bb0>"
      ]
     },
     "execution_count": 39,
     "metadata": {},
     "output_type": "execute_result"
    },
    {
     "data": {
      "image/png": "[encoded data removed]",
      "text/plain": [
       "<Figure size 432x288 with 1 Axes>"
      ]
     },
     "metadata": {},
     "output_type": "display_data"
    }
   ],
   "source": [
    "df[\"type\"].value_counts().plot.pie()\n",
    "\n",
    "plt.legend()"
   ]
  },
  {
   "cell_type": "markdown",
   "id": "7d86c691",
   "metadata": {},
   "source": [
    "how the types affect the amount"
   ]
  },
  {
   "cell_type": "code",
   "execution_count": 40,
   "id": "213c1e6b",
   "metadata": {},
   "outputs": [
    {
     "name": "stderr",
     "output_type": "stream",
     "text": [
      "/opt/anaconda3/lib/python3.9/site-packages/seaborn/categorical.py:3717: UserWarning: The `factorplot` function has been renamed to `catplot`. The original name will be removed in a future release. Please update your code. Note that the default `kind` in `factorplot` (`'point'`) has changed `'strip'` in `catplot`.\n",
      "  warnings.warn(msg)\n",
      "/opt/anaconda3/lib/python3.9/site-packages/seaborn/_decorators.py:36: FutureWarning: Pass the following variables as keyword args: x, y. From version 0.12, the only valid positional argument will be `data`, and passing other arguments without an explicit keyword will result in an error or misinterpretation.\n",
      "  warnings.warn(\n"
     ]
    },
    {
     "data": {
      "text/plain": [
       "<seaborn.axisgrid.FacetGrid at 0x129453f70>"
      ]
     },
     "execution_count": 40,
     "metadata": {},
     "output_type": "execute_result"
    },
    {
     "data": {
      "image/png": "[encoded data removed]",
      "text/plain": [
       "<Figure size 360x360 with 1 Axes>"
      ]
     },
     "metadata": {
      "needs_background": "light"
     },
     "output_type": "display_data"
    }
   ],
   "source": [
    "sns.factorplot(\"type\", \"amount_(million_naira)\", data = df, palette = \"muted\")\n",
    "#plt.xticks(rotation=90)"
   ]
  },
  {
   "cell_type": "markdown",
   "id": "f72e90bb",
   "metadata": {},
   "source": [
    "brand new cars are the most expensive, while nigerian used is fairly cheap.\n",
    "foreign used are of moderate price"
   ]
  },
  {
   "cell_type": "markdown",
   "id": "2a6a8829",
   "metadata": {},
   "source": [
    "## Conclusion\n",
    "I discovered that the average amount of cars is 11.85 million naira,\n",
    "cars sold in abuja cost more,\n",
    "location of the car affect the amount,\n",
    "short distance cars cost higher than long distance,\n",
    "the year a car was manufactored affect it selling price,\n",
    "orange colour cars are the most expensive in this dataset.\n",
    "\n",
    "\n",
    "## Limitation\n",
    "1. they were many missing value in the dataset\n",
    "2. the values of the year column had comma in it, which i had to clean \n",
    "3. distance values came in object, so i had to change to int64\n",
    "4. they were more foreign cars causing an imbalance in the dataset "
   ]
  },
  {
   "cell_type": "raw",
   "id": "ae5eb2e3",
   "metadata": {},
   "source": []
  }
 ],
 "metadata": {
  "kernelspec": {
   "display_name": "Python 3 (ipykernel)",
   "language": "python",
   "name": "python3"
  },
  "language_info": {
   "codemirror_mode": {
    "name": "ipython",
    "version": 3
   },
   "file_extension": ".py",
   "mimetype": "text/x-python",
   "name": "python",
   "nbconvert_exporter": "python",
   "pygments_lexer": "ipython3",
   "version": "3.9.7"
  }
 },
 "nbformat": 4,
 "nbformat_minor": 5
}
